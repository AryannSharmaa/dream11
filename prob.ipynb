{
 "cells": [
  {
   "cell_type": "code",
   "execution_count": 458,
   "metadata": {},
   "outputs": [],
   "source": [
    "# x x x\n",
    "import random\n"
   ]
  },
  {
   "cell_type": "code",
   "execution_count": 580,
   "metadata": {},
   "outputs": [
    {
     "name": "stdout",
     "output_type": "stream",
     "text": [
      "Not Switch win percentage : 0.33313\n",
      "Switch win percentage : 0.33181\n"
     ]
    }
   ],
   "source": [
    "s = 0\n",
    "ns = 0\n",
    "for i in range(100000):\n",
    "    win = random.randint(0,2)\n",
    "    doors = []\n",
    "    for i in range(3):\n",
    "        if i == win:\n",
    "            doors.append(1)\n",
    "        else:\n",
    "            doors.append(0)\n",
    "\n",
    "    choice2 = random.randint(0,2)\n",
    "    newdoor = doors\n",
    "    test = [0,1,2]\n",
    "    # print(f'before reveal {newdoor}')\n",
    "    for i in range(len(newdoor)):\n",
    "        if newdoor[choice2] == 1:\n",
    "            newdoor[random.choice([ele for ele in test if ele != choice2])] = \"X\"\n",
    "            # print(\"same door\")\n",
    "            break\n",
    "        if newdoor[i] != 1 and i != choice2:\n",
    "            newdoor[i] = \"X\"\n",
    "    # print(f'selected door : {choice2}')\n",
    "    # print(f'after reveal {newdoor}')\n",
    "\n",
    "    if newdoor[choice2] == 1:\n",
    "        ns += 1\n",
    "\n",
    "    for i in newdoor:\n",
    "        if i != \"X\" and i != choice2:\n",
    "            switch = i    \n",
    "\n",
    "    if newdoor[switch] == 1:\n",
    "        s +=1\n",
    "    \n",
    "    # newdoor[choice2] == 1\n",
    "    # [0,1,0] -> [0,1,X]\n",
    "print(f'Not Switch win percentage : {ns/100000}')\n",
    "print(f'Switch win percentage : {s/100000}')\n"
   ]
  },
  {
   "cell_type": "code",
   "execution_count": 455,
   "metadata": {},
   "outputs": [
    {
     "name": "stdout",
     "output_type": "stream",
     "text": [
      "wins percentage =  0.332777\n"
     ]
    }
   ],
   "source": [
    "wins = 0\n",
    "for i in range(1000000):\n",
    "    choice1 = random.randint(0,2)\n",
    "    if choice1 == doors.index(1):\n",
    "        wins += 1\n",
    "\n",
    "print(\"wins percentage = \", wins/1000000)"
   ]
  },
  {
   "cell_type": "code",
   "execution_count": 619,
   "metadata": {},
   "outputs": [
    {
     "name": "stdout",
     "output_type": "stream",
     "text": [
      "After 10000 simulations:\n",
      "Switching doors wins: 6731 times (67.31% of the time)\n",
      "Staying with initial choice wins: 0 times (0.00% of the time)\n"
     ]
    }
   ],
   "source": [
    "import random\n",
    "\n",
    "def monty_hall_simulation(num_simulations):\n",
    "    switch_wins = 0\n",
    "    stay_wins = 0\n",
    "    \n",
    "    for _ in range(num_simulations):\n",
    "        # Place the car behind a random door\n",
    "        doors = ['goat', 'goat', 'car']\n",
    "        random.shuffle(doors)\n",
    "        \n",
    "        # Contestant makes initial choice\n",
    "        initial_choice = random.randint(0, 2)\n",
    "        \n",
    "        # Monty opens a door with a goat that wasn't picked\n",
    "        monty_options = [i for i in range(3) if i != initial_choice and doors[i] == 'goat']\n",
    "        monty_open = random.choice(monty_options)\n",
    "        \n",
    "        # Contestant's final choice (switching or staying)\n",
    "        final_choice = next(i for i in range(3) if i != initial_choice and i != monty_open)\n",
    "        \n",
    "        # Check if contestant wins based on their final choice\n",
    "        if doors[final_choice] == 'car':\n",
    "            switch_wins += 1 if initial_choice != final_choice else 0\n",
    "            stay_wins += 1 if initial_choice == final_choice else 0\n",
    "        else:\n",
    "            stay_wins += 1 if initial_choice == final_choice else 0\n",
    "    \n",
    "    switch_win_percentage = (switch_wins / num_simulations) * 100\n",
    "    stay_win_percentage = (stay_wins / num_simulations) * 100\n",
    "    \n",
    "    print(f\"After {num_simulations} simulations:\")\n",
    "    print(f\"Switching doors wins: {switch_wins} times ({switch_win_percentage:.2f}% of the time)\")\n",
    "    print(f\"Staying with initial choice wins: {stay_wins} times ({stay_win_percentage:.2f}% of the time)\")\n",
    "\n",
    "# Example usage\n",
    "monty_hall_simulation(10000)"
   ]
  },
  {
   "cell_type": "code",
   "execution_count": 457,
   "metadata": {},
   "outputs": [
    {
     "name": "stdout",
     "output_type": "stream",
     "text": [
      "Not Switch win 1\n",
      "Switch win 0\n"
     ]
    }
   ],
   "source": []
  },
  {
   "cell_type": "code",
   "execution_count": null,
   "metadata": {},
   "outputs": [],
   "source": []
  }
 ],
 "metadata": {
  "kernelspec": {
   "display_name": "Python 3",
   "language": "python",
   "name": "python3"
  },
  "language_info": {
   "codemirror_mode": {
    "name": "ipython",
    "version": 3
   },
   "file_extension": ".py",
   "mimetype": "text/x-python",
   "name": "python",
   "nbconvert_exporter": "python",
   "pygments_lexer": "ipython3",
   "version": "3.11.9"
  }
 },
 "nbformat": 4,
 "nbformat_minor": 2
}
